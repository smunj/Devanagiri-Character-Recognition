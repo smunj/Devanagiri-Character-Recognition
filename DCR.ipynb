{
 "cells": [
  {
   "cell_type": "code",
   "execution_count": 1,
   "metadata": {},
   "outputs": [
    {
     "name": "stderr",
     "output_type": "stream",
     "text": [
      "Using TensorFlow backend.\n"
     ]
    }
   ],
   "source": [
    "import os\n",
    "import numpy as np\n",
    "import cv2\n",
    "import glob\n",
    "import matplotlib.pyplot as plt\n",
    "from keras.models import Sequential\n",
    "from keras.layers import Layer\n",
    "from keras.layers import InputLayer, Conv2D, MaxPooling2D\n",
    "from keras.layers import Flatten, Dense, Dropout\n",
    "from keras.losses import categorical_crossentropy\n",
    "from keras.metrics import top_k_categorical_accuracy\n",
    "from keras.optimizers import RMSprop\n",
    "from keras.preprocessing.image import ImageDataGenerator\n",
    "from keras import backend as K\n",
    "from sklearn.model_selection import train_test_split\n",
    "%matplotlib inline"
   ]
  },
  {
   "cell_type": "code",
   "execution_count": 2,
   "metadata": {
    "collapsed": true
   },
   "outputs": [],
   "source": [
    "BASE = 2304\n",
    "MAX_DIM = 218\n",
    "IMG_SHAPE = (32, 32)\n",
    "BATCH = 32\n",
    "EPOCHS = 75\n",
    "CLASSES = 128"
   ]
  },
  {
   "cell_type": "code",
   "execution_count": 3,
   "metadata": {
    "collapsed": true
   },
   "outputs": [],
   "source": [
    "def show_image(img, name=''):\n",
    "    plt.axis('off')\n",
    "    plt.imshow(img)\n",
    "    plt.title(name)"
   ]
  },
  {
   "cell_type": "code",
   "execution_count": 4,
   "metadata": {
    "collapsed": true
   },
   "outputs": [],
   "source": [
    "def load_data():\n",
    "    images = []\n",
    "    labels = []\n",
    "    kernel = np.ones(shape=(3, 3), dtype=np.uint8)\n",
    "    for f in glob.glob('q_train_images/*.png'):\n",
    "        img = cv2.imread(f, 0)\n",
    "        _, img = cv2.threshold(img, 0, 255, cv2.THRESH_BINARY_INV + cv2.THRESH_OTSU)\n",
    "        img = cv2.morphologyEx(img, cv2.MORPH_OPEN, kernel)\n",
    "        img = cv2.morphologyEx(img, cv2.MORPH_CLOSE, kernel)\n",
    "        img = img.astype(np.float32) / 255\n",
    "        images.append(img)\n",
    "        lab = f.split('_')[5:]\n",
    "        lab[-1] = lab[-1].split('.')[0]\n",
    "        lab = list(map(int, lab))\n",
    "        lab = [x - BASE for x in lab]\n",
    "        labels.append(lab)\n",
    "    return images, labels"
   ]
  },
  {
   "cell_type": "code",
   "execution_count": 5,
   "metadata": {
    "collapsed": true
   },
   "outputs": [],
   "source": [
    "images, labels = load_data()"
   ]
  },
  {
   "cell_type": "code",
   "execution_count": 6,
   "metadata": {
    "collapsed": true
   },
   "outputs": [],
   "source": [
    "def resize_images(images):\n",
    "    resized_images = []\n",
    "    for i in range(len(images)):\n",
    "        img = images[i]\n",
    "        height, width = img.shape\n",
    "        pad_top_size = (MAX_DIM - img.shape[0]) // 2\n",
    "        pad_bottom_size = MAX_DIM - pad_top_size - height\n",
    "        pad_left_size = (MAX_DIM - img.shape[1]) // 2\n",
    "        pad_right_size = MAX_DIM - pad_left_size - width\n",
    "        pad_top = np.zeros(shape=(pad_top_size, img.shape[1]))\n",
    "        pad_bottom = np.zeros(shape=(pad_bottom_size, img.shape[1]))\n",
    "        img = np.vstack([pad_top, img, pad_bottom])\n",
    "        pad_left = np.zeros(shape=(img.shape[0], pad_left_size))\n",
    "        pad_right = np.zeros(shape=(img.shape[0], pad_right_size))\n",
    "        img = np.hstack([pad_left, img, pad_right])\n",
    "        img = cv2.resize(img, IMG_SHAPE)\n",
    "        resized_images.append(img)\n",
    "    return resized_images"
   ]
  },
  {
   "cell_type": "code",
   "execution_count": 7,
   "metadata": {
    "collapsed": true
   },
   "outputs": [],
   "source": [
    "images = resize_images(images)"
   ]
  },
  {
   "cell_type": "code",
   "execution_count": 9,
   "metadata": {},
   "outputs": [
    {
     "data": {
      "image/png": "[encoded data removed]",
      "text/plain": [
       "<matplotlib.figure.Figure at 0x7f4eba97d080>"
      ]
     },
     "metadata": {},
     "output_type": "display_data"
    }
   ],
   "source": [
    "images = np.array(images)\n",
    "show_image(images[2])"
   ]
  },
  {
   "cell_type": "code",
   "execution_count": 10,
   "metadata": {
    "collapsed": true
   },
   "outputs": [],
   "source": [
    "lab = np.zeros(shape=(images.shape[0], 128))\n",
    "for i, lb in enumerate(labels):\n",
    "    for j in lb:\n",
    "        lab[i, j] = 1."
   ]
  },
  {
   "cell_type": "code",
   "execution_count": 11,
   "metadata": {
    "collapsed": true
   },
   "outputs": [],
   "source": [
    "images = np.expand_dims(images, axis=3)"
   ]
  },
  {
   "cell_type": "code",
   "execution_count": 12,
   "metadata": {
    "collapsed": true
   },
   "outputs": [],
   "source": [
    "Xtr, Xval, ytr, yval = train_test_split(images, lab, test_size=0.1, \n",
    "                                        shuffle=True)"
   ]
  },
  {
   "cell_type": "code",
   "execution_count": 13,
   "metadata": {
    "collapsed": true
   },
   "outputs": [],
   "source": [
    "class Top5Round(Layer):\n",
    "    \n",
    "    def __init__(self, **kwargs):\n",
    "        super(Top5Round, self).__init__(**kwargs)\n",
    "    \n",
    "    def get_output(self, train=False):\n",
    "        X = self.get_input(train)\n",
    "        sorted_idx = K.argsort(X)\n",
    "        X[sorted_idx[-5:]] = K.round(X[sorted_idx[-5:]])\n",
    "        X[sorted_idx[:-5]] = 0\n",
    "        return X\n",
    "    \n",
    "    def get_config(self):\n",
    "        config = {'name': self.__class__.__name__}\n",
    "        base_config = super(Top5Round, self).get_config()\n",
    "        return dict(list(base_config.items()) + list(config.items()))"
   ]
  },
  {
   "cell_type": "code",
   "execution_count": 14,
   "metadata": {
    "collapsed": true
   },
   "outputs": [],
   "source": [
    "model = Sequential()\n",
    "model.add(InputLayer(input_shape=(IMG_SHAPE[0], IMG_SHAPE[1], 1)))\n",
    "\n",
    "model.add(Conv2D(filters=32, \n",
    "                 kernel_size=5, \n",
    "                 padding='same', \n",
    "                 activation='relu'))\n",
    "model.add(Conv2D(filters=32, \n",
    "                 kernel_size=5, \n",
    "                 padding='same', \n",
    "                 activation='relu'))\n",
    "model.add(MaxPooling2D(pool_size=2))\n",
    "model.add(Dropout(0.25))\n",
    "\n",
    "model.add(Conv2D(filters=64,  \n",
    "                 kernel_size=3, \n",
    "                 padding='same', \n",
    "                 activation='relu'))\n",
    "model.add(Conv2D(filters=64, \n",
    "                 kernel_size=3, \n",
    "                 padding='same', \n",
    "                 activation='relu'))\n",
    "model.add(MaxPooling2D(pool_size=2, \n",
    "                       strides=2))\n",
    "model.add(Dropout(0.25))\n",
    "\n",
    "model.add(Conv2D(filters=64,  \n",
    "                 kernel_size=3, \n",
    "                 padding='same', \n",
    "                 activation='relu'))\n",
    "model.add(Conv2D(filters=64, \n",
    "                 kernel_size=3, \n",
    "                 padding='same', \n",
    "                 activation='relu'))\n",
    "model.add(Conv2D(filters=64, \n",
    "                 kernel_size=3, \n",
    "                 padding='same', \n",
    "                 activation='relu'))\n",
    "model.add(MaxPooling2D(pool_size=2, \n",
    "                       strides=2))\n",
    "model.add(Dropout(0.25))\n",
    "          \n",
    "model.add(Flatten())\n",
    "model.add(Dense(256, activation='relu'))\n",
    "model.add(Dropout(0.50))\n",
    "model.add(Dense(CLASSES, activation='sigmoid'))\n",
    "model.add(Top5Round())"
   ]
  },
  {
   "cell_type": "code",
   "execution_count": 15,
   "metadata": {
    "scrolled": true
   },
   "outputs": [
    {
     "name": "stdout",
     "output_type": "stream",
     "text": [
      "_________________________________________________________________\n",
      "Layer (type)                 Output Shape              Param #   \n",
      "=================================================================\n",
      "input_1 (InputLayer)         (None, 32, 32, 1)         0         \n",
      "_________________________________________________________________\n",
      "conv2d_1 (Conv2D)            (None, 32, 32, 32)        832       \n",
      "_________________________________________________________________\n",
      "conv2d_2 (Conv2D)            (None, 32, 32, 32)        25632     \n",
      "_________________________________________________________________\n",
      "max_pooling2d_1 (MaxPooling2 (None, 16, 16, 32)        0         \n",
      "_________________________________________________________________\n",
      "dropout_1 (Dropout)          (None, 16, 16, 32)        0         \n",
      "_________________________________________________________________\n",
      "conv2d_3 (Conv2D)            (None, 16, 16, 64)        18496     \n",
      "_________________________________________________________________\n",
      "conv2d_4 (Conv2D)            (None, 16, 16, 64)        36928     \n",
      "_________________________________________________________________\n",
      "max_pooling2d_2 (MaxPooling2 (None, 8, 8, 64)          0         \n",
      "_________________________________________________________________\n",
      "dropout_2 (Dropout)          (None, 8, 8, 64)          0         \n",
      "_________________________________________________________________\n",
      "conv2d_5 (Conv2D)            (None, 8, 8, 64)          36928     \n",
      "_________________________________________________________________\n",
      "conv2d_6 (Conv2D)            (None, 8, 8, 64)          36928     \n",
      "_________________________________________________________________\n",
      "conv2d_7 (Conv2D)            (None, 8, 8, 64)          36928     \n",
      "_________________________________________________________________\n",
      "max_pooling2d_3 (MaxPooling2 (None, 4, 4, 64)          0         \n",
      "_________________________________________________________________\n",
      "dropout_3 (Dropout)          (None, 4, 4, 64)          0         \n",
      "_________________________________________________________________\n",
      "flatten_1 (Flatten)          (None, 1024)              0         \n",
      "_________________________________________________________________\n",
      "dense_1 (Dense)              (None, 256)               262400    \n",
      "_________________________________________________________________\n",
      "dropout_4 (Dropout)          (None, 256)               0         \n",
      "_________________________________________________________________\n",
      "dense_2 (Dense)              (None, 128)               32896     \n",
      "_________________________________________________________________\n",
      "top5_round_1 (Top5Round)     (None, 128)               0         \n",
      "=================================================================\n",
      "Total params: 487,968\n",
      "Trainable params: 487,968\n",
      "Non-trainable params: 0\n",
      "_________________________________________________________________\n"
     ]
    }
   ],
   "source": [
    "model.summary()"
   ]
  },
  {
   "cell_type": "code",
   "execution_count": 16,
   "metadata": {
    "collapsed": true
   },
   "outputs": [],
   "source": [
    "model.compile(loss=categorical_crossentropy, \n",
    "              optimizer=RMSprop(), \n",
    "              metrics=[top_k_categorical_accuracy])"
   ]
  },
  {
   "cell_type": "code",
   "execution_count": 17,
   "metadata": {
    "collapsed": true
   },
   "outputs": [],
   "source": [
    "train_datagen =  ImageDataGenerator(rotation_range=5, \n",
    "                                width_shift_range=0.1, \n",
    "                                height_shift_range=0.1, \n",
    "                                shear_range=0.1, \n",
    "                                zoom_range=0.2)"
   ]
  },
  {
   "cell_type": "code",
   "execution_count": 18,
   "metadata": {
    "collapsed": true
   },
   "outputs": [],
   "source": [
    "train_gen = train_datagen.flow(Xtr, ytr, batch_size=BATCH)"
   ]
  },
  {
   "cell_type": "code",
   "execution_count": 19,
   "metadata": {},
   "outputs": [
    {
     "name": "stdout",
     "output_type": "stream",
     "text": [
      "Epoch 1/75\n",
      "55/55 [==============================] - 30s - loss: 6.7523 - top_k_categorical_accuracy: 0.2227 - val_loss: 6.4146 - val_top_k_categorical_accuracy: 0.1980\n",
      "Epoch 2/75\n",
      "55/55 [==============================] - 34s - loss: 6.2647 - top_k_categorical_accuracy: 0.2185 - val_loss: 6.3611 - val_top_k_categorical_accuracy: 0.1980\n",
      "Epoch 3/75\n",
      "55/55 [==============================] - 33s - loss: 6.2044 - top_k_categorical_accuracy: 0.2074 - val_loss: 6.3204 - val_top_k_categorical_accuracy: 0.1523\n",
      "Epoch 4/75\n",
      "55/55 [==============================] - 35s - loss: 6.1643 - top_k_categorical_accuracy: 0.2106 - val_loss: 6.3083 - val_top_k_categorical_accuracy: 0.2081\n",
      "Epoch 5/75\n",
      "55/55 [==============================] - 35s - loss: 6.1122 - top_k_categorical_accuracy: 0.2140 - val_loss: 6.1734 - val_top_k_categorical_accuracy: 0.1827\n",
      "Epoch 6/75\n",
      "55/55 [==============================] - 31s - loss: 6.0209 - top_k_categorical_accuracy: 0.2310 - val_loss: 6.1181 - val_top_k_categorical_accuracy: 0.2183\n",
      "Epoch 7/75\n",
      "55/55 [==============================] - 27s - loss: 5.8743 - top_k_categorical_accuracy: 0.2651 - val_loss: 6.0065 - val_top_k_categorical_accuracy: 0.2132\n",
      "Epoch 8/75\n",
      "55/55 [==============================] - 27s - loss: 5.7879 - top_k_categorical_accuracy: 0.2964 - val_loss: 5.7353 - val_top_k_categorical_accuracy: 0.3503\n",
      "Epoch 9/75\n",
      "55/55 [==============================] - 27s - loss: 5.6111 - top_k_categorical_accuracy: 0.3444 - val_loss: 5.7402 - val_top_k_categorical_accuracy: 0.4061\n",
      "Epoch 10/75\n",
      "55/55 [==============================] - 28s - loss: 5.3978 - top_k_categorical_accuracy: 0.4180 - val_loss: 5.3203 - val_top_k_categorical_accuracy: 0.4467\n",
      "Epoch 11/75\n",
      "55/55 [==============================] - 26s - loss: 5.2220 - top_k_categorical_accuracy: 0.4672 - val_loss: 5.0422 - val_top_k_categorical_accuracy: 0.5025\n",
      "Epoch 12/75\n",
      "55/55 [==============================] - 28s - loss: 4.9974 - top_k_categorical_accuracy: 0.5297 - val_loss: 4.8761 - val_top_k_categorical_accuracy: 0.5228\n",
      "Epoch 13/75\n",
      "55/55 [==============================] - 28s - loss: 4.7291 - top_k_categorical_accuracy: 0.5507 - val_loss: 4.6378 - val_top_k_categorical_accuracy: 0.5888\n",
      "Epoch 14/75\n",
      "55/55 [==============================] - 29s - loss: 4.5766 - top_k_categorical_accuracy: 0.6027 - val_loss: 4.4367 - val_top_k_categorical_accuracy: 0.5787\n",
      "Epoch 15/75\n",
      "55/55 [==============================] - 26s - loss: 4.4326 - top_k_categorical_accuracy: 0.6147 - val_loss: 4.3815 - val_top_k_categorical_accuracy: 0.5939\n",
      "Epoch 16/75\n",
      "55/55 [==============================] - 27s - loss: 4.3713 - top_k_categorical_accuracy: 0.6249 - val_loss: 4.2677 - val_top_k_categorical_accuracy: 0.6650\n",
      "Epoch 17/75\n",
      "55/55 [==============================] - 28s - loss: 4.1262 - top_k_categorical_accuracy: 0.6669 - val_loss: 3.9976 - val_top_k_categorical_accuracy: 0.6802\n",
      "Epoch 18/75\n",
      "55/55 [==============================] - 27s - loss: 4.1076 - top_k_categorical_accuracy: 0.6741 - val_loss: 4.0362 - val_top_k_categorical_accuracy: 0.6802\n",
      "Epoch 19/75\n",
      "55/55 [==============================] - 27s - loss: 3.9199 - top_k_categorical_accuracy: 0.7030 - val_loss: 3.9277 - val_top_k_categorical_accuracy: 0.7157\n",
      "Epoch 20/75\n",
      "55/55 [==============================] - 26s - loss: 3.9131 - top_k_categorical_accuracy: 0.7079 - val_loss: 3.7788 - val_top_k_categorical_accuracy: 0.7360\n",
      "Epoch 21/75\n",
      "55/55 [==============================] - 26s - loss: 3.7443 - top_k_categorical_accuracy: 0.7593 - val_loss: 3.7399 - val_top_k_categorical_accuracy: 0.7310\n",
      "Epoch 22/75\n",
      "55/55 [==============================] - 26s - loss: 3.6222 - top_k_categorical_accuracy: 0.7573 - val_loss: 3.6167 - val_top_k_categorical_accuracy: 0.7716\n",
      "Epoch 23/75\n",
      "55/55 [==============================] - 26s - loss: 3.5953 - top_k_categorical_accuracy: 0.7539 - val_loss: 3.5695 - val_top_k_categorical_accuracy: 0.7970\n",
      "Epoch 24/75\n",
      "55/55 [==============================] - 27s - loss: 3.5866 - top_k_categorical_accuracy: 0.7937 - val_loss: 3.4346 - val_top_k_categorical_accuracy: 0.7970\n",
      "Epoch 25/75\n",
      "55/55 [==============================] - 28s - loss: 3.4706 - top_k_categorical_accuracy: 0.7800 - val_loss: 3.5472 - val_top_k_categorical_accuracy: 0.7868\n",
      "Epoch 26/75\n",
      "55/55 [==============================] - 27s - loss: 3.4677 - top_k_categorical_accuracy: 0.7937 - val_loss: 3.6681 - val_top_k_categorical_accuracy: 0.7868\n",
      "Epoch 27/75\n",
      "55/55 [==============================] - 27s - loss: 3.2875 - top_k_categorical_accuracy: 0.8136 - val_loss: 3.3694 - val_top_k_categorical_accuracy: 0.8173\n",
      "Epoch 28/75\n",
      "55/55 [==============================] - 27s - loss: 3.3597 - top_k_categorical_accuracy: 0.8053 - val_loss: 3.2317 - val_top_k_categorical_accuracy: 0.8325\n",
      "Epoch 29/75\n",
      "55/55 [==============================] - 29s - loss: 3.1616 - top_k_categorical_accuracy: 0.8380 - val_loss: 3.2558 - val_top_k_categorical_accuracy: 0.8223\n",
      "Epoch 30/75\n",
      "55/55 [==============================] - 27s - loss: 3.2346 - top_k_categorical_accuracy: 0.8286 - val_loss: 3.1189 - val_top_k_categorical_accuracy: 0.8376\n",
      "Epoch 31/75\n",
      "55/55 [==============================] - 28s - loss: 3.0248 - top_k_categorical_accuracy: 0.8508 - val_loss: 3.1530 - val_top_k_categorical_accuracy: 0.8325\n",
      "Epoch 32/75\n",
      "55/55 [==============================] - 28s - loss: 3.0180 - top_k_categorical_accuracy: 0.8508 - val_loss: 3.0243 - val_top_k_categorical_accuracy: 0.8426\n",
      "Epoch 33/75\n",
      "55/55 [==============================] - 27s - loss: 3.0271 - top_k_categorical_accuracy: 0.8443 - val_loss: 3.0862 - val_top_k_categorical_accuracy: 0.8325\n",
      "Epoch 34/75\n",
      "55/55 [==============================] - 29s - loss: 3.0601 - top_k_categorical_accuracy: 0.8573 - val_loss: 3.1468 - val_top_k_categorical_accuracy: 0.8376\n",
      "Epoch 35/75\n",
      "55/55 [==============================] - 28s - loss: 2.8890 - top_k_categorical_accuracy: 0.8644 - val_loss: 2.9370 - val_top_k_categorical_accuracy: 0.8579\n",
      "Epoch 36/75\n",
      "55/55 [==============================] - 28s - loss: 2.9521 - top_k_categorical_accuracy: 0.8582 - val_loss: 2.9674 - val_top_k_categorical_accuracy: 0.8528\n",
      "Epoch 37/75\n",
      "55/55 [==============================] - 27s - loss: 2.9049 - top_k_categorical_accuracy: 0.8744 - val_loss: 2.9212 - val_top_k_categorical_accuracy: 0.8680\n",
      "Epoch 38/75\n",
      "55/55 [==============================] - 28s - loss: 2.8754 - top_k_categorical_accuracy: 0.8676 - val_loss: 2.9051 - val_top_k_categorical_accuracy: 0.8579\n",
      "Epoch 39/75\n",
      "55/55 [==============================] - 27s - loss: 2.8292 - top_k_categorical_accuracy: 0.8792 - val_loss: 2.8894 - val_top_k_categorical_accuracy: 0.8629\n",
      "Epoch 40/75\n",
      "55/55 [==============================] - 29s - loss: 2.7488 - top_k_categorical_accuracy: 0.8841 - val_loss: 2.8178 - val_top_k_categorical_accuracy: 0.8629\n",
      "Epoch 41/75\n",
      "55/55 [==============================] - 28s - loss: 2.7475 - top_k_categorical_accuracy: 0.8815 - val_loss: 2.7666 - val_top_k_categorical_accuracy: 0.8680\n",
      "Epoch 42/75\n",
      "55/55 [==============================] - 30s - loss: 2.7187 - top_k_categorical_accuracy: 0.8784 - val_loss: 2.9091 - val_top_k_categorical_accuracy: 0.8782\n",
      "Epoch 43/75\n",
      "55/55 [==============================] - 25s - loss: 2.6898 - top_k_categorical_accuracy: 0.8895 - val_loss: 2.7642 - val_top_k_categorical_accuracy: 0.9036\n",
      "Epoch 44/75\n",
      "55/55 [==============================] - 25s - loss: 2.6455 - top_k_categorical_accuracy: 0.8988 - val_loss: 2.7496 - val_top_k_categorical_accuracy: 0.8731\n",
      "Epoch 45/75\n",
      "55/55 [==============================] - 25s - loss: 2.7696 - top_k_categorical_accuracy: 0.8835 - val_loss: 2.7826 - val_top_k_categorical_accuracy: 0.8680\n",
      "Epoch 46/75\n",
      "55/55 [==============================] - 25s - loss: 2.6295 - top_k_categorical_accuracy: 0.8983 - val_loss: 2.7933 - val_top_k_categorical_accuracy: 0.8934\n",
      "Epoch 47/75\n",
      "55/55 [==============================] - 25s - loss: 2.6730 - top_k_categorical_accuracy: 0.8988 - val_loss: 2.7025 - val_top_k_categorical_accuracy: 0.8883\n",
      "Epoch 48/75\n",
      "55/55 [==============================] - 25s - loss: 2.4912 - top_k_categorical_accuracy: 0.9074 - val_loss: 2.7204 - val_top_k_categorical_accuracy: 0.9086\n",
      "Epoch 49/75\n"
     ]
    },
    {
     "name": "stdout",
     "output_type": "stream",
     "text": [
      "55/55 [==============================] - 27s - loss: 2.6452 - top_k_categorical_accuracy: 0.9071 - val_loss: 2.6759 - val_top_k_categorical_accuracy: 0.8934\n",
      "Epoch 50/75\n",
      "55/55 [==============================] - 25s - loss: 2.5425 - top_k_categorical_accuracy: 0.9000 - val_loss: 2.5967 - val_top_k_categorical_accuracy: 0.9137\n",
      "Epoch 51/75\n",
      "55/55 [==============================] - 26s - loss: 2.5097 - top_k_categorical_accuracy: 0.9142 - val_loss: 2.6876 - val_top_k_categorical_accuracy: 0.9036\n",
      "Epoch 52/75\n",
      "55/55 [==============================] - 26s - loss: 2.4842 - top_k_categorical_accuracy: 0.9153 - val_loss: 2.5926 - val_top_k_categorical_accuracy: 0.8985\n",
      "Epoch 53/75\n",
      "55/55 [==============================] - 26s - loss: 2.4834 - top_k_categorical_accuracy: 0.9133 - val_loss: 2.6117 - val_top_k_categorical_accuracy: 0.9137\n",
      "Epoch 54/75\n",
      "55/55 [==============================] - 25s - loss: 2.5221 - top_k_categorical_accuracy: 0.9119 - val_loss: 2.6886 - val_top_k_categorical_accuracy: 0.9036\n",
      "Epoch 55/75\n",
      "55/55 [==============================] - 26s - loss: 2.4818 - top_k_categorical_accuracy: 0.9165 - val_loss: 2.5867 - val_top_k_categorical_accuracy: 0.8934\n",
      "Epoch 56/75\n",
      "55/55 [==============================] - 25s - loss: 2.4623 - top_k_categorical_accuracy: 0.9207 - val_loss: 2.7180 - val_top_k_categorical_accuracy: 0.8883\n",
      "Epoch 57/75\n",
      "55/55 [==============================] - 26s - loss: 2.4180 - top_k_categorical_accuracy: 0.9170 - val_loss: 2.4757 - val_top_k_categorical_accuracy: 0.9086\n",
      "Epoch 58/75\n",
      "55/55 [==============================] - 25s - loss: 2.4543 - top_k_categorical_accuracy: 0.9176 - val_loss: 2.5143 - val_top_k_categorical_accuracy: 0.9137\n",
      "Epoch 59/75\n",
      "55/55 [==============================] - 25s - loss: 2.4859 - top_k_categorical_accuracy: 0.9199 - val_loss: 2.6327 - val_top_k_categorical_accuracy: 0.9036\n",
      "Epoch 60/75\n",
      "55/55 [==============================] - 26s - loss: 2.3915 - top_k_categorical_accuracy: 0.9142 - val_loss: 2.5873 - val_top_k_categorical_accuracy: 0.9036\n",
      "Epoch 61/75\n",
      "55/55 [==============================] - 25s - loss: 2.3517 - top_k_categorical_accuracy: 0.9301 - val_loss: 2.5061 - val_top_k_categorical_accuracy: 0.9086\n",
      "Epoch 62/75\n",
      "55/55 [==============================] - 25s - loss: 2.3790 - top_k_categorical_accuracy: 0.9255 - val_loss: 2.5263 - val_top_k_categorical_accuracy: 0.9188\n",
      "Epoch 63/75\n",
      "55/55 [==============================] - 27s - loss: 2.3373 - top_k_categorical_accuracy: 0.9199 - val_loss: 2.4640 - val_top_k_categorical_accuracy: 0.9036\n",
      "Epoch 64/75\n",
      "55/55 [==============================] - 25s - loss: 2.3692 - top_k_categorical_accuracy: 0.9238 - val_loss: 2.4940 - val_top_k_categorical_accuracy: 0.9137\n",
      "Epoch 65/75\n",
      "55/55 [==============================] - 25s - loss: 2.2944 - top_k_categorical_accuracy: 0.9267 - val_loss: 2.6565 - val_top_k_categorical_accuracy: 0.8985\n",
      "Epoch 66/75\n",
      "55/55 [==============================] - 25s - loss: 2.3912 - top_k_categorical_accuracy: 0.9273 - val_loss: 2.5131 - val_top_k_categorical_accuracy: 0.9086\n",
      "Epoch 67/75\n",
      "55/55 [==============================] - 25s - loss: 2.2224 - top_k_categorical_accuracy: 0.9432 - val_loss: 2.4865 - val_top_k_categorical_accuracy: 0.9239\n",
      "Epoch 68/75\n",
      "55/55 [==============================] - 25s - loss: 2.3059 - top_k_categorical_accuracy: 0.9375 - val_loss: 2.6994 - val_top_k_categorical_accuracy: 0.9188\n",
      "Epoch 69/75\n",
      "55/55 [==============================] - 27s - loss: 2.2229 - top_k_categorical_accuracy: 0.9329 - val_loss: 2.4863 - val_top_k_categorical_accuracy: 0.9289\n",
      "Epoch 70/75\n",
      "55/55 [==============================] - 27s - loss: 2.3243 - top_k_categorical_accuracy: 0.9398 - val_loss: 2.5702 - val_top_k_categorical_accuracy: 0.9289\n",
      "Epoch 71/75\n",
      "55/55 [==============================] - 27s - loss: 2.2707 - top_k_categorical_accuracy: 0.9278 - val_loss: 2.4762 - val_top_k_categorical_accuracy: 0.9442\n",
      "Epoch 72/75\n",
      "55/55 [==============================] - 27s - loss: 2.3193 - top_k_categorical_accuracy: 0.9255 - val_loss: 2.4144 - val_top_k_categorical_accuracy: 0.9289\n",
      "Epoch 73/75\n",
      "55/55 [==============================] - 26s - loss: 2.2300 - top_k_categorical_accuracy: 0.9420 - val_loss: 2.5764 - val_top_k_categorical_accuracy: 0.9188\n",
      "Epoch 74/75\n",
      "55/55 [==============================] - 28s - loss: 2.3500 - top_k_categorical_accuracy: 0.9321 - val_loss: 2.5142 - val_top_k_categorical_accuracy: 0.9188\n",
      "Epoch 75/75\n",
      "55/55 [==============================] - 26s - loss: 2.2806 - top_k_categorical_accuracy: 0.9329 - val_loss: 2.4656 - val_top_k_categorical_accuracy: 0.9137\n"
     ]
    },
    {
     "data": {
      "text/plain": [
       "<keras.callbacks.History at 0x7f4ec3490860>"
      ]
     },
     "execution_count": 19,
     "metadata": {},
     "output_type": "execute_result"
    }
   ],
   "source": [
    "model.fit_generator(train_gen, \n",
    "                    steps_per_epoch=Xtr.shape[0]//BATCH,  \n",
    "                    epochs=EPOCHS, \n",
    "                    verbose=1,  \n",
    "                    validation_data=(Xval, yval))"
   ]
  },
  {
   "cell_type": "code",
   "execution_count": 20,
   "metadata": {},
   "outputs": [
    {
     "data": {
      "text/plain": [
       "(array([42]),)"
      ]
     },
     "execution_count": 20,
     "metadata": {},
     "output_type": "execute_result"
    },
    {
     "data": {
      "image/png": "[encoded data removed]",
      "text/plain": [
       "<matplotlib.figure.Figure at 0x7f4ec2fe5e48>"
      ]
     },
     "metadata": {},
     "output_type": "display_data"
    }
   ],
   "source": [
    "idx = np.random.randint(images.shape[0])\n",
    "img = images[idx].reshape(IMG_SHAPE)\n",
    "show_image(img)\n",
    "np.where(lab[idx] == 1)"
   ]
  },
  {
   "cell_type": "code",
   "execution_count": 21,
   "metadata": {
    "collapsed": true
   },
   "outputs": [],
   "source": [
    "probs = model.predict(img.reshape(1, IMG_SHAPE[0], IMG_SHAPE[1], 1)).reshape(CLASSES)"
   ]
  },
  {
   "cell_type": "code",
   "execution_count": 22,
   "metadata": {},
   "outputs": [
    {
     "data": {
      "text/plain": [
       "[(42, '0x92a', 1.0),\n",
       " (55, '0x937', 0.00047328835),\n",
       " (77, '0x94d', 0.00033191813),\n",
       " (47, '0x92f', 0.00030351122),\n",
       " (48, '0x930', 3.2266398e-05),\n",
       " (46, '0x92e', 9.832178e-06),\n",
       " (2, '0x902', 6.3787656e-06),\n",
       " (62, '0x93e', 4.0711893e-06),\n",
       " (37, '0x925', 1.3802048e-06),\n",
       " (65, '0x941', 1.0445273e-06)]"
      ]
     },
     "execution_count": 22,
     "metadata": {},
     "output_type": "execute_result"
    }
   ],
   "source": [
    "top10probs = probs / np.max(probs)\n",
    "top10 = np.argsort(top10probs)[-10:][::-1]\n",
    "top10hex = [hex(BASE + x) for x in top10]\n",
    "list(zip(top10, top10hex, top10probs[top10]))"
   ]
  },
  {
   "cell_type": "code",
   "execution_count": null,
   "metadata": {
    "collapsed": true
   },
   "outputs": [],
   "source": []
  }
 ],
 "metadata": {
  "kernelspec": {
   "display_name": "Python 3",
   "language": "python",
   "name": "python3"
  },
  "language_info": {
   "codemirror_mode": {
    "name": "ipython",
    "version": 3
   },
   "file_extension": ".py",
   "mimetype": "text/x-python",
   "name": "python",
   "nbconvert_exporter": "python",
   "pygments_lexer": "ipython3",
   "version": "3.6.3"
  }
 },
 "nbformat": 4,
 "nbformat_minor": 2
}
